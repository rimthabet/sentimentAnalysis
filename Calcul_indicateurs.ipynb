{
  "nbformat": 4,
  "nbformat_minor": 0,
  "metadata": {
    "colab": {
      "provenance": [],
      "gpuType": "T4"
    },
    "kernelspec": {
      "name": "python3",
      "display_name": "Python 3"
    },
    "language_info": {
      "name": "python"
    },
    "accelerator": "GPU"
  },
  "cells": [
    {
      "cell_type": "code",
      "execution_count": 4,
      "metadata": {
        "colab": {
          "base_uri": "https://localhost:8080/"
        },
        "id": "TeKD2x25IQyo",
        "outputId": "886b85e3-988a-4c67-9d1c-761e9643e951"
      },
      "outputs": [
        {
          "output_type": "stream",
          "name": "stderr",
          "text": [
            "<ipython-input-4-24ecf415d930>:25: DeprecationWarning: DataFrameGroupBy.apply operated on the grouping columns. This behavior is deprecated, and in a future version of pandas the grouping columns will be excluded from the operation. Either pass `include_groups=False` to exclude the groupings or explicitly select the grouping columns after groupby to silence this warning.\n",
            "  df = df.groupby(\"code_isin\", group_keys=False).apply(calcul_indicateurs)\n"
          ]
        }
      ],
      "source": [
        "import pandas as pd\n",
        "\n",
        "df = pd.read_csv(\"seance.csv\")\n",
        "\n",
        "period_R = 14\n",
        "period_momentum = 4\n",
        "period_disparity = 5\n",
        "\n",
        "def calcul_indicateurs(group):\n",
        "    group['Highest_High'] = group['prix_cloture_ajuste'].rolling(window=period_R).max()\n",
        "    group['Lowest_Low'] = group['prix_cloture_ajuste'].rolling(window=period_R).min()\n",
        "\n",
        "    group[\"%R\"] = ((group[\"Highest_High\"] - group[\"prix_cloture_ajuste\"]) /\n",
        "                   (group[\"Highest_High\"] - group[\"Lowest_Low\"])) * 100\n",
        "\n",
        "    group[\"Momentum\"] = group[\"prix_cloture_ajuste\"] - group[\"prix_cloture_ajuste\"].shift(period_momentum)\n",
        "\n",
        "    #la moyenne sur 5 jours\n",
        "    group[\"MA5\"] = group[\"prix_cloture_ajuste\"].rolling(window=period_disparity).mean()\n",
        "    group[\"Disparity_5\"] = (group[\"prix_cloture_ajuste\"] / group[\"MA5\"]) * 100\n",
        "\n",
        "    group.drop(columns=['Highest_High', 'Lowest_Low', 'MA5'], inplace=True)\n",
        "    return group\n",
        "\n",
        "df = df.groupby(\"code_isin\", group_keys=False).apply(calcul_indicateurs)\n",
        "df.to_csv(\"seance_avec_indicateurs.csv\", index=False)\n"
      ]
    },
    {
      "cell_type": "code",
      "source": [
        "import pandas as pd\n",
        "import numpy as np\n",
        "\n",
        "# Charger les données\n",
        "df = pd.read_csv(\"seance.csv\")\n",
        "\n",
        "\n",
        "period_R = 14\n",
        "period_momentum = 4\n",
        "period_disparity = 5\n",
        "period_volatility = 30\n",
        "period_ma = 14\n",
        "\n",
        "\n",
        "risk_free_rate = 0.10\n",
        "\n",
        "def calcul_indicateurs(group):\n",
        "    #%R\n",
        "    group['Highest_High'] = group['prix_cloture_ajuste'].rolling(window=period_R).max()\n",
        "    group['Lowest_Low'] = group['prix_cloture_ajuste'].rolling(window=period_R).min()\n",
        "    group[\"%R\"] = ((group[\"Highest_High\"] - group[\"prix_cloture_ajuste\"]) /\n",
        "                   (group[\"Highest_High\"] - group[\"Lowest_Low\"])) * 100\n",
        "\n",
        "    # Momentum\n",
        "    group[\"Momentum\"] = group[\"prix_cloture_ajuste\"] - group[\"prix_cloture_ajuste\"].shift(period_momentum)\n",
        "\n",
        "    #Disparity 5\n",
        "    group[\"MA5\"] = group[\"prix_cloture_ajuste\"].rolling(window=period_disparity).mean()\n",
        "    group[\"Disparity_5\"] = (group[\"prix_cloture_ajuste\"] / group[\"MA5\"]) * 100\n",
        "\n",
        "    #MA\n",
        "    group[\"MA\"] = group[\"prix_cloture_ajuste\"].rolling(window=period_ma).mean()\n",
        "\n",
        "    # Rendements quotidiens (pour Sharpe Ratio et Volatilité)\n",
        "    group[\"Returns\"] = group[\"prix_cloture_ajuste\"].pct_change()\n",
        "\n",
        "    # Sharpe Ratio (moyenne des rendements / volatilité)\n",
        "    group[\"Sharpe_Ratio\"] = (group[\"Returns\"].rolling(period_volatility).mean() - risk_free_rate) / group[\"Returns\"].rolling(period_volatility).std()\n",
        "    # Remplacer les valeurs infinies ou NaN par   (ou NaN selon ton besoin)\n",
        "    group[\"Sharpe_Ratio\"] = group[\"Sharpe_Ratio\"].replace([np.inf, -np.inf], np.nan)\n",
        "    # Volatilité\n",
        "    group[\"Volatility\"] = group[\"Returns\"].rolling(period_volatility).std()\n",
        "\n",
        "    #MCT\n",
        "    group[\"MCT\"] = (group[\"prix_cloture_ajuste\"] * group[\"qte_echangee\"]).cumsum() / group[\"qte_echangee\"].cumsum()\n",
        "\n",
        "    group.drop(columns=['Highest_High', 'Lowest_Low', 'MA5', 'Returns'], inplace=True)\n",
        "    return group\n",
        "\n",
        "\n",
        "df = df.groupby(\"code_isin\", group_keys=False).apply(calcul_indicateurs)\n",
        "df.to_csv(\"seance_avec_indicateurs.csv\", index=False)\n"
      ],
      "metadata": {
        "colab": {
          "base_uri": "https://localhost:8080/"
        },
        "id": "ZWETm1HSU8Jx",
        "outputId": "1610e563-372d-4533-e3a5-149932dc0b43"
      },
      "execution_count": 4,
      "outputs": [
        {
          "output_type": "stream",
          "name": "stderr",
          "text": [
            "<ipython-input-4-295c6b0e8b78>:51: DeprecationWarning: DataFrameGroupBy.apply operated on the grouping columns. This behavior is deprecated, and in a future version of pandas the grouping columns will be excluded from the operation. Either pass `include_groups=False` to exclude the groupings or explicitly select the grouping columns after groupby to silence this warning.\n",
            "  df = df.groupby(\"code_isin\", group_keys=False).apply(calcul_indicateurs)\n"
          ]
        }
      ]
    }
  ]
}