{
  "cells": [
    {
      "cell_type": "code",
      "execution_count": 1,
      "id": "feb08f81-c524-4319-8c95-3008adf9295b",
      "metadata": {
        "id": "feb08f81-c524-4319-8c95-3008adf9295b"
      },
      "outputs": [],
      "source": [
        "import numpy as np\n",
        "import pandas as pd\n",
        "import seaborn as sns\n",
        "from pylab import rcParams\n",
        "import matplotlib.pyplot as plt\n",
        "from matplotlib import rc\n",
        "from sklearn.model_selection import train_test_split\n",
        "from sklearn.metrics import confusion_matrix, classification_report\n",
        "from collections import defaultdict\n",
        "from textwrap import wrap"
      ]
    },
    {
      "cell_type": "code",
      "execution_count": 2,
      "id": "eea5a302-16b1-48f1-8de3-24690ddff04a",
      "metadata": {
        "colab": {
          "base_uri": "https://localhost:8080/"
        },
        "id": "eea5a302-16b1-48f1-8de3-24690ddff04a",
        "outputId": "176e7756-b166-4f45-e0df-ddb44fe78f79"
      },
      "outputs": [
        {
          "output_type": "stream",
          "name": "stdout",
          "text": [
            "Requirement already satisfied: transformers in /usr/local/lib/python3.11/dist-packages (4.47.1)\n",
            "Requirement already satisfied: filelock in /usr/local/lib/python3.11/dist-packages (from transformers) (3.17.0)\n",
            "Requirement already satisfied: huggingface-hub<1.0,>=0.24.0 in /usr/local/lib/python3.11/dist-packages (from transformers) (0.27.1)\n",
            "Requirement already satisfied: numpy>=1.17 in /usr/local/lib/python3.11/dist-packages (from transformers) (1.26.4)\n",
            "Requirement already satisfied: packaging>=20.0 in /usr/local/lib/python3.11/dist-packages (from transformers) (24.2)\n",
            "Requirement already satisfied: pyyaml>=5.1 in /usr/local/lib/python3.11/dist-packages (from transformers) (6.0.2)\n",
            "Requirement already satisfied: regex!=2019.12.17 in /usr/local/lib/python3.11/dist-packages (from transformers) (2024.11.6)\n",
            "Requirement already satisfied: requests in /usr/local/lib/python3.11/dist-packages (from transformers) (2.32.3)\n",
            "Requirement already satisfied: tokenizers<0.22,>=0.21 in /usr/local/lib/python3.11/dist-packages (from transformers) (0.21.0)\n",
            "Requirement already satisfied: safetensors>=0.4.1 in /usr/local/lib/python3.11/dist-packages (from transformers) (0.5.2)\n",
            "Requirement already satisfied: tqdm>=4.27 in /usr/local/lib/python3.11/dist-packages (from transformers) (4.67.1)\n",
            "Requirement already satisfied: fsspec>=2023.5.0 in /usr/local/lib/python3.11/dist-packages (from huggingface-hub<1.0,>=0.24.0->transformers) (2024.10.0)\n",
            "Requirement already satisfied: typing-extensions>=3.7.4.3 in /usr/local/lib/python3.11/dist-packages (from huggingface-hub<1.0,>=0.24.0->transformers) (4.12.2)\n",
            "Requirement already satisfied: charset-normalizer<4,>=2 in /usr/local/lib/python3.11/dist-packages (from requests->transformers) (3.4.1)\n",
            "Requirement already satisfied: idna<4,>=2.5 in /usr/local/lib/python3.11/dist-packages (from requests->transformers) (3.10)\n",
            "Requirement already satisfied: urllib3<3,>=1.21.1 in /usr/local/lib/python3.11/dist-packages (from requests->transformers) (2.3.0)\n",
            "Requirement already satisfied: certifi>=2017.4.17 in /usr/local/lib/python3.11/dist-packages (from requests->transformers) (2024.12.14)\n"
          ]
        }
      ],
      "source": [
        "!pip install transformers"
      ]
    },
    {
      "cell_type": "code",
      "execution_count": 3,
      "id": "a03fbfb8-3cac-475f-8728-20c8287d3f91",
      "metadata": {
        "id": "a03fbfb8-3cac-475f-8728-20c8287d3f91"
      },
      "outputs": [],
      "source": [
        "import transformers\n",
        "from transformers import BertModel, BertTokenizer, AdamW, get_linear_schedule_with_warmup\n",
        "import torch\n",
        "from torch import nn, optim\n",
        "from torch.utils.data import Dataset, DataLoader"
      ]
    },
    {
      "cell_type": "code",
      "source": [
        "from transformers import AutoModelForSequenceClassification, AutoTokenizer, pipeline\n",
        "\n",
        "model_dir = \"/content/drive/My Drive/deberta-v3-finance-classification\"\n",
        "model_id = \"nickmuchi/deberta-v3-base-finetuned-finance-text-classification\"\n",
        "model = AutoModelForSequenceClassification.from_pretrained(model_id)\n",
        "model.save_pretrained(model_dir)"
      ],
      "metadata": {
        "id": "3XfRz4mXGIuu",
        "colab": {
          "base_uri": "https://localhost:8080/",
          "height": 205,
          "referenced_widgets": [
            "79fa134aab2443df914e73213b53cf43",
            "f3e874f574574f5d923055e022a5137e",
            "d1b5e886f1e1461d8a6b01d66362a85b",
            "81ca240ab9db454e912a4222c8026742",
            "db1af64d35194087a1bc8830c870172a",
            "f5fc9eb4186b4310aeede67f6d2b8fe9",
            "3b11834af5584dfe9af22319cea790cb",
            "df393b6c5eb144499d08bd98bb82536f",
            "ffbbf2d969e549a0881de905ff3d59ac",
            "f32971f28f064f05b2beb9c93582b89d",
            "f9c37b4b9c0f4afcbb8d992dbf1be11e",
            "5d3a03d01fed4c6c838c3c1332694102",
            "e7761ec313154dcfb284192f59a364e6",
            "82e6c7162a974f7199fb486d00cde54c",
            "93bf33fbdffe4395a512b9d25dbf2c4e",
            "45ab68258df546e9979cda98c21d9fa5",
            "5f37f85380c745b4925b76e824d6b462",
            "e790b2ac353e4c4f9559109c2f4766e3",
            "cba1512744f44e12a37f19657ce14c92",
            "4509a2e87c0f48469be5ca10bf82d64a",
            "6a8cb4d4cf8247b4b52f2a36f84f832e",
            "d0b26461dd4d4e5d902189ebf59f0d2e"
          ]
        },
        "outputId": "077e1bbc-c4ee-4acd-f1ba-af0232e2e434"
      },
      "id": "3XfRz4mXGIuu",
      "execution_count": 4,
      "outputs": [
        {
          "output_type": "stream",
          "name": "stderr",
          "text": [
            "/usr/local/lib/python3.11/dist-packages/huggingface_hub/utils/_auth.py:94: UserWarning: \n",
            "The secret `HF_TOKEN` does not exist in your Colab secrets.\n",
            "To authenticate with the Hugging Face Hub, create a token in your settings tab (https://huggingface.co/settings/tokens), set it as secret in your Google Colab and restart your session.\n",
            "You will be able to reuse this secret in all of your notebooks.\n",
            "Please note that authentication is recommended but still optional to access public models or datasets.\n",
            "  warnings.warn(\n"
          ]
        },
        {
          "output_type": "display_data",
          "data": {
            "text/plain": [
              "config.json:   0%|          | 0.00/1.03k [00:00<?, ?B/s]"
            ],
            "application/vnd.jupyter.widget-view+json": {
              "version_major": 2,
              "version_minor": 0,
              "model_id": "79fa134aab2443df914e73213b53cf43"
            }
          },
          "metadata": {}
        },
        {
          "output_type": "display_data",
          "data": {
            "text/plain": [
              "model.safetensors:   0%|          | 0.00/738M [00:00<?, ?B/s]"
            ],
            "application/vnd.jupyter.widget-view+json": {
              "version_major": 2,
              "version_minor": 0,
              "model_id": "5d3a03d01fed4c6c838c3c1332694102"
            }
          },
          "metadata": {}
        }
      ]
    },
    {
      "cell_type": "code",
      "execution_count": 6,
      "id": "8f7587f9-c1fe-4076-9c71-60a62f75ba98",
      "metadata": {
        "colab": {
          "base_uri": "https://localhost:8080/"
        },
        "id": "8f7587f9-c1fe-4076-9c71-60a62f75ba98",
        "outputId": "29a66393-b8b6-4878-c77b-79f0d71a9b49"
      },
      "outputs": [
        {
          "output_type": "stream",
          "name": "stdout",
          "text": [
            "Drive already mounted at /content/drive; to attempt to forcibly remount, call drive.mount(\"/content/drive\", force_remount=True).\n"
          ]
        },
        {
          "output_type": "stream",
          "name": "stderr",
          "text": [
            "Device set to use cuda:0\n"
          ]
        }
      ],
      "source": [
        "import pandas as pd\n",
        "import json\n",
        "from google.colab import drive\n",
        "from transformers import AutoModelForSequenceClassification, AutoTokenizer, pipeline\n",
        "import os\n",
        "from transformers import pipeline\n",
        "\n",
        "drive.mount('/content/drive')\n",
        "\n",
        "model_dir = \"/content/drive/My Drive/deberta-v3-finance-classification\"\n",
        "\n",
        "model = AutoModelForSequenceClassification.from_pretrained(model_dir)\n",
        "tokenizer = AutoTokenizer.from_pretrained(model_dir)\n",
        "\n",
        "classifier = pipeline(\"text-classification\", model=model, tokenizer=tokenizer)"
      ]
    },
    {
      "cell_type": "code",
      "source": [
        "def normalize_label(label):\n",
        "  return label.lower().strip()\n",
        "\n",
        "def map_label(label):\n",
        "  label_mapping = { \"bullish\": \"positive\", \"neutral\": \"neutral\", \"bearish\": \"negative\" }\n",
        "  return label_mapping.get(label, label)"
      ],
      "metadata": {
        "id": "a1k2i9_y28lQ"
      },
      "id": "a1k2i9_y28lQ",
      "execution_count": 7,
      "outputs": []
    },
    {
      "cell_type": "code",
      "source": [
        "import pandas as pd\n",
        "\n",
        "df_actualite = pd.read_csv(\n",
        "    \"allactualite.csv\",\n",
        "    sep=\",\",\n",
        "    quotechar='\"',\n",
        "    encoding=\"utf-8\",\n",
        "    on_bad_lines=\"skip\"\n",
        ")\n",
        "df_seance = pd.read_csv(\"allseance.csv\", sep=\",\", quotechar='\"', encoding=\"utf-8\")\n",
        "\n",
        "print(df_seance.head())\n",
        "print(df_actualite.head())"
      ],
      "metadata": {
        "colab": {
          "base_uri": "https://localhost:8080/"
        },
        "id": "KMIBk9Zi3OBX",
        "outputId": "ed82de98-e035-4591-d0d2-04ae0925c254"
      },
      "id": "KMIBk9Zi3OBX",
      "execution_count": 8,
      "outputs": [
        {
          "output_type": "stream",
          "name": "stdout",
          "text": [
            "  date_seance  prix_cloture_ajuste         volume  qte_echangee     code_isin  \\\n",
            "0  2018-12-31            17.237187    2121.020020            78  TN0003400058   \n",
            "1  2018-12-31             1.877000   23547.750000          9415  TN0006590012   \n",
            "2  2018-12-31             7.329000    3229.719971           422  TN0001000108   \n",
            "3  2018-12-31             5.065000   60538.839844         10676  TN0006530018   \n",
            "4  2018-12-31            11.383000  112094.242188          6010  TN0007570013   \n",
            "\n",
            "  libelle_long  \n",
            "0    AMEN BANK  \n",
            "1        SIAME  \n",
            "2     MONOPRIX  \n",
            "3      SOTETEL  \n",
            "4  EURO-CYCLES  \n",
            "  date_publication     code_isin  \\\n",
            "0       2023-12-18  TN0007560014   \n",
            "1       2021-10-18  TN0007560014   \n",
            "2       2018-08-22  TN0007560014   \n",
            "3       2018-07-18  TN0007560014   \n",
            "4       2018-07-13  TN0007560014   \n",
            "\n",
            "                                         description  \n",
            "0  La Chambre civile de la Cour d''appel a décidé...  \n",
            "1  La compagnie aérienne privée Syphax Airlines a...  \n",
            "2  La compagnie aérienne Syphax Airlines a annonc...  \n",
            "3  La compagnie aérienne Syphax Airlines a enregi...  \n",
            "4  Les préparatifs se poursuivent dans de bonnes ...  \n"
          ]
        }
      ]
    },
    {
      "cell_type": "code",
      "source": [],
      "metadata": {
        "id": "fVmPZNRA4JqO"
      },
      "id": "fVmPZNRA4JqO",
      "execution_count": null,
      "outputs": []
    },
    {
      "cell_type": "code",
      "source": [
        "import pandas as pd\n",
        "import os\n",
        "\n",
        "df_matched = pd.merge(df_actualite, df_seance, how='inner',\n",
        "                      left_on=['date_publication', 'code_isin'],\n",
        "                      right_on=['date_seance', 'code_isin'])\n",
        "\n",
        "#les descriptions en chaînes\n",
        "df_matched['description'] = df_matched['description'].astype(str)\n",
        "\n",
        "batch_size = 400\n",
        "output_file_actualite = \"allActualiteLabellise.csv\"\n",
        "output_file_seance = \"AllSeanceLabellise.csv\"\n",
        "\n",
        "# Charger les résultats partiels si existants\n",
        "if os.path.exists(output_file_actualite):\n",
        "    df_actualite = pd.read_csv(output_file_actualite)\n",
        "    df_seance = pd.read_csv(output_file_seance)\n",
        "    processed_descriptions = set(df_actualite['description'].dropna())\n",
        "else:\n",
        "    df_actualite['score'] = 'NaN'\n",
        "    processed_descriptions = set()\n",
        "\n",
        "# application du modèle DeBERta\n",
        "def classify_and_save(df_batch, start_index):\n",
        "    results = []\n",
        "    for i, row in df_batch.iterrows():\n",
        "        description = row['description']\n",
        "        if description in processed_descriptions:\n",
        "            continue\n",
        "        try:\n",
        "            if description.strip():\n",
        "                score = map_label(normalize_label(classifier(description)[0]['label']))\n",
        "            else:\n",
        "                score = 'NaN'\n",
        "        except Exception as e:\n",
        "            score = 'Error'\n",
        "            print(f\"Erreur avec la description {description}: {e}\")\n",
        "        results.append((row['date_seance'], row['code_isin'], description, score))\n",
        "\n",
        "        processed_descriptions.add(description)\n",
        "\n",
        "    for _, _, description, score in results:\n",
        "        df_actualite.loc[df_actualite['description'] == description, 'score'] = score\n",
        "\n",
        "    for date_seance, code_isin, _, score in results:\n",
        "        df_seance.loc[(df_seance['date_seance'] == date_seance) &\n",
        "                      (df_seance['code_isin'] == code_isin), 'score'] = score\n",
        "\n",
        "    # Sauvegarder les résultats\n",
        "    df_actualite.to_csv(output_file_actualite, index=False, encoding=\"utf-8\")\n",
        "    df_seance.to_csv(output_file_seance, index=False, encoding=\"utf-8\")\n",
        "\n",
        "    return len(results)\n",
        "\n",
        "for start_index in range(0, len(df_matched), batch_size):\n",
        "    batch = df_matched.iloc[start_index:start_index + batch_size]\n",
        "    print(f\"Traitement du lot {start_index} à {start_index + batch_size}\")\n",
        "    classify_and_save(batch, start_index)\n",
        "    print(f\"Lot {start_index} terminé. Résultats sauvegardés.\")\n"
      ],
      "metadata": {
        "id": "d_ynkYvz4Jwn",
        "colab": {
          "base_uri": "https://localhost:8080/"
        },
        "outputId": "6774b3dd-4bac-477b-c000-6a32d2626567"
      },
      "id": "d_ynkYvz4Jwn",
      "execution_count": 9,
      "outputs": [
        {
          "output_type": "stream",
          "name": "stdout",
          "text": [
            "Traitement du lot 0 à 400\n"
          ]
        },
        {
          "output_type": "stream",
          "name": "stderr",
          "text": [
            "You seem to be using the pipelines sequentially on GPU. In order to maximize efficiency please use a dataset\n"
          ]
        },
        {
          "output_type": "stream",
          "name": "stdout",
          "text": [
            "Lot 0 terminé. Résultats sauvegardés.\n",
            "Traitement du lot 400 à 800\n",
            "Lot 400 terminé. Résultats sauvegardés.\n",
            "Traitement du lot 800 à 1200\n",
            "Lot 800 terminé. Résultats sauvegardés.\n",
            "Traitement du lot 1200 à 1600\n",
            "Lot 1200 terminé. Résultats sauvegardés.\n",
            "Traitement du lot 1600 à 2000\n",
            "Lot 1600 terminé. Résultats sauvegardés.\n",
            "Traitement du lot 2000 à 2400\n",
            "Lot 2000 terminé. Résultats sauvegardés.\n",
            "Traitement du lot 2400 à 2800\n",
            "Lot 2400 terminé. Résultats sauvegardés.\n",
            "Traitement du lot 2800 à 3200\n",
            "Lot 2800 terminé. Résultats sauvegardés.\n",
            "Traitement du lot 3200 à 3600\n",
            "Lot 3200 terminé. Résultats sauvegardés.\n",
            "Traitement du lot 3600 à 4000\n",
            "Lot 3600 terminé. Résultats sauvegardés.\n",
            "Traitement du lot 4000 à 4400\n",
            "Lot 4000 terminé. Résultats sauvegardés.\n"
          ]
        }
      ]
    },
    {
      "cell_type": "code",
      "source": [
        "import pandas as pd\n",
        "\n",
        "df_actualite = pd.read_csv(\"allActualiteLabellise.csv\")\n",
        "df_seance = pd.read_csv(\"AllSeanceLabellise.csv\")\n",
        "\n",
        "valid_labels = [\"neutral\", \"positive\", \"negative\"]\n",
        "# Filtrer les lignes\n",
        "df_actualite_labellise = df_actualite[df_actualite['score'].isin(valid_labels)]\n",
        "df_seance_labellise = df_seance[df_seance['score'].isin(valid_labels)]\n",
        "\n",
        "df_actualite_labellise.to_csv(\"df_actualite_labellise.csv\", index=False, encoding=\"utf-8\")\n",
        "df_seance_labellise.to_csv(\"df_seance_labellise.csv\", index=False, encoding=\"utf-8\")\n",
        "\n",
        "print(f\"Nombre de lignes labellisées - Actualité : {len(df_actualite_labellise)}\")\n",
        "print(f\"Nombre de lignes labellisées - Séance : {len(df_seance_labellise)}\")\n"
      ],
      "metadata": {
        "colab": {
          "base_uri": "https://localhost:8080/"
        },
        "id": "YaWbokvzKZXK",
        "outputId": "f361acdc-e7fa-416c-fae9-3052fd39f85b"
      },
      "id": "YaWbokvzKZXK",
      "execution_count": 10,
      "outputs": [
        {
          "output_type": "stream",
          "name": "stdout",
          "text": [
            "Nombre de lignes labellisées - Actualité : 4243\n",
            "Nombre de lignes labellisées - Séance : 4138\n"
          ]
        }
      ]
    },
    {
      "cell_type": "code",
      "source": [],
      "metadata": {
        "id": "h8hy_83KKZby"
      },
      "id": "h8hy_83KKZby",
      "execution_count": null,
      "outputs": []
    },
    {
      "cell_type": "code",
      "source": [
        "import pandas as pd\n",
        "\n",
        "df = pd.read_csv('df_seance_labellise.csv')\n",
        "df['sentiment_score'] = df['score'].map({\n",
        "    'positive': 1,\n",
        "    'negative': -1,\n",
        "    'neutral': 0\n",
        "})\n",
        "\n",
        "df.to_csv('seance_labelliseSentiment.csv', index=False)\n"
      ],
      "metadata": {
        "id": "OQIKACACKZfg"
      },
      "id": "OQIKACACKZfg",
      "execution_count": 17,
      "outputs": []
    },
    {
      "cell_type": "code",
      "source": [
        "import pandas as pd\n",
        "\n",
        "df = pd.read_csv('df_actualite_labellise.csv')\n",
        "df['sentiment_score'] = df['score'].map({\n",
        "    'positive': 1,\n",
        "    'negative': -1,\n",
        "    'neutral': 0\n",
        "})\n",
        "\n",
        "df.to_csv('DataActualiteLabellise.csv', index=False)\n"
      ],
      "metadata": {
        "id": "Z-XKc9WAMHg2"
      },
      "id": "Z-XKc9WAMHg2",
      "execution_count": 20,
      "outputs": []
    },
    {
      "cell_type": "code",
      "source": [
        "import pandas as pd\n",
        "\n",
        "df = pd.read_csv('seance.csv')\n",
        "df = df.sort_values(by=['code_isin', 'date_seance'])\n",
        "df['trend'] = df.groupby('code_isin')['prix_cloture_ajuste'].shift(-1)\n",
        "\n",
        "\n",
        "df.to_csv('trend.csv', index=False)\n"
      ],
      "metadata": {
        "id": "gztzwg1KXNAv"
      },
      "id": "gztzwg1KXNAv",
      "execution_count": 2,
      "outputs": []
    },
    {
      "cell_type": "code",
      "source": [
        "import pandas as pd\n",
        "\n",
        "df = pd.read_csv('trend.csv')\n",
        "df = df.sort_values(by=['code_isin', 'date_seance'])\n",
        "\n",
        "# Calculer la variation du prix_cloture_ajuste entre J et J-1\n",
        "df['variation'] = df.groupby('code_isin')['prix_cloture_ajuste'].diff()\n",
        "\n",
        "epsilon = 1e-6\n",
        "df['tendance'] = df['variation'].apply(\n",
        "    lambda x: 'constante' if abs(x) < epsilon else ('hausse' if x > 0 else 'baisse')\n",
        ")\n",
        "\n",
        "\n",
        "df['trend'] = df.groupby('code_isin')['prix_cloture_ajuste'].shift(-1)\n",
        "df['tendance'] = df.groupby('code_isin')['tendance'].shift(-1)\n",
        "\n",
        "df.drop(columns=['variation'], inplace=True)\n",
        "\n",
        "df.to_csv('tendance.csv', index=False)\n"
      ],
      "metadata": {
        "id": "nbi-3-b5ZeQ-"
      },
      "id": "nbi-3-b5ZeQ-",
      "execution_count": 5,
      "outputs": []
    }
  ],
  "metadata": {
    "kernelspec": {
      "display_name": "Python 3",
      "name": "python3"
    },
    "language_info": {
      "codemirror_mode": {
        "name": "ipython",
        "version": 3
      },
      "file_extension": ".py",
      "mimetype": "text/x-python",
      "name": "python",
      "nbconvert_exporter": "python",
      "pygments_lexer": "ipython3",
      "version": "3.12.3"
    },
    "colab": {
      "provenance": [],
      "gpuType": "V28"
    },
    "accelerator": "TPU",
    "widgets": {
      "application/vnd.jupyter.widget-state+json": {
        "79fa134aab2443df914e73213b53cf43": {
          "model_module": "@jupyter-widgets/controls",
          "model_name": "HBoxModel",
          "model_module_version": "1.5.0",
          "state": {
            "_dom_classes": [],
            "_model_module": "@jupyter-widgets/controls",
            "_model_module_version": "1.5.0",
            "_model_name": "HBoxModel",
            "_view_count": null,
            "_view_module": "@jupyter-widgets/controls",
            "_view_module_version": "1.5.0",
            "_view_name": "HBoxView",
            "box_style": "",
            "children": [
              "IPY_MODEL_f3e874f574574f5d923055e022a5137e",
              "IPY_MODEL_d1b5e886f1e1461d8a6b01d66362a85b",
              "IPY_MODEL_81ca240ab9db454e912a4222c8026742"
            ],
            "layout": "IPY_MODEL_db1af64d35194087a1bc8830c870172a"
          }
        },
        "f3e874f574574f5d923055e022a5137e": {
          "model_module": "@jupyter-widgets/controls",
          "model_name": "HTMLModel",
          "model_module_version": "1.5.0",
          "state": {
            "_dom_classes": [],
            "_model_module": "@jupyter-widgets/controls",
            "_model_module_version": "1.5.0",
            "_model_name": "HTMLModel",
            "_view_count": null,
            "_view_module": "@jupyter-widgets/controls",
            "_view_module_version": "1.5.0",
            "_view_name": "HTMLView",
            "description": "",
            "description_tooltip": null,
            "layout": "IPY_MODEL_f5fc9eb4186b4310aeede67f6d2b8fe9",
            "placeholder": "​",
            "style": "IPY_MODEL_3b11834af5584dfe9af22319cea790cb",
            "value": "config.json: 100%"
          }
        },
        "d1b5e886f1e1461d8a6b01d66362a85b": {
          "model_module": "@jupyter-widgets/controls",
          "model_name": "FloatProgressModel",
          "model_module_version": "1.5.0",
          "state": {
            "_dom_classes": [],
            "_model_module": "@jupyter-widgets/controls",
            "_model_module_version": "1.5.0",
            "_model_name": "FloatProgressModel",
            "_view_count": null,
            "_view_module": "@jupyter-widgets/controls",
            "_view_module_version": "1.5.0",
            "_view_name": "ProgressView",
            "bar_style": "success",
            "description": "",
            "description_tooltip": null,
            "layout": "IPY_MODEL_df393b6c5eb144499d08bd98bb82536f",
            "max": 1034,
            "min": 0,
            "orientation": "horizontal",
            "style": "IPY_MODEL_ffbbf2d969e549a0881de905ff3d59ac",
            "value": 1034
          }
        },
        "81ca240ab9db454e912a4222c8026742": {
          "model_module": "@jupyter-widgets/controls",
          "model_name": "HTMLModel",
          "model_module_version": "1.5.0",
          "state": {
            "_dom_classes": [],
            "_model_module": "@jupyter-widgets/controls",
            "_model_module_version": "1.5.0",
            "_model_name": "HTMLModel",
            "_view_count": null,
            "_view_module": "@jupyter-widgets/controls",
            "_view_module_version": "1.5.0",
            "_view_name": "HTMLView",
            "description": "",
            "description_tooltip": null,
            "layout": "IPY_MODEL_f32971f28f064f05b2beb9c93582b89d",
            "placeholder": "​",
            "style": "IPY_MODEL_f9c37b4b9c0f4afcbb8d992dbf1be11e",
            "value": " 1.03k/1.03k [00:00&lt;00:00, 28.3kB/s]"
          }
        },
        "db1af64d35194087a1bc8830c870172a": {
          "model_module": "@jupyter-widgets/base",
          "model_name": "LayoutModel",
          "model_module_version": "1.2.0",
          "state": {
            "_model_module": "@jupyter-widgets/base",
            "_model_module_version": "1.2.0",
            "_model_name": "LayoutModel",
            "_view_count": null,
            "_view_module": "@jupyter-widgets/base",
            "_view_module_version": "1.2.0",
            "_view_name": "LayoutView",
            "align_content": null,
            "align_items": null,
            "align_self": null,
            "border": null,
            "bottom": null,
            "display": null,
            "flex": null,
            "flex_flow": null,
            "grid_area": null,
            "grid_auto_columns": null,
            "grid_auto_flow": null,
            "grid_auto_rows": null,
            "grid_column": null,
            "grid_gap": null,
            "grid_row": null,
            "grid_template_areas": null,
            "grid_template_columns": null,
            "grid_template_rows": null,
            "height": null,
            "justify_content": null,
            "justify_items": null,
            "left": null,
            "margin": null,
            "max_height": null,
            "max_width": null,
            "min_height": null,
            "min_width": null,
            "object_fit": null,
            "object_position": null,
            "order": null,
            "overflow": null,
            "overflow_x": null,
            "overflow_y": null,
            "padding": null,
            "right": null,
            "top": null,
            "visibility": null,
            "width": null
          }
        },
        "f5fc9eb4186b4310aeede67f6d2b8fe9": {
          "model_module": "@jupyter-widgets/base",
          "model_name": "LayoutModel",
          "model_module_version": "1.2.0",
          "state": {
            "_model_module": "@jupyter-widgets/base",
            "_model_module_version": "1.2.0",
            "_model_name": "LayoutModel",
            "_view_count": null,
            "_view_module": "@jupyter-widgets/base",
            "_view_module_version": "1.2.0",
            "_view_name": "LayoutView",
            "align_content": null,
            "align_items": null,
            "align_self": null,
            "border": null,
            "bottom": null,
            "display": null,
            "flex": null,
            "flex_flow": null,
            "grid_area": null,
            "grid_auto_columns": null,
            "grid_auto_flow": null,
            "grid_auto_rows": null,
            "grid_column": null,
            "grid_gap": null,
            "grid_row": null,
            "grid_template_areas": null,
            "grid_template_columns": null,
            "grid_template_rows": null,
            "height": null,
            "justify_content": null,
            "justify_items": null,
            "left": null,
            "margin": null,
            "max_height": null,
            "max_width": null,
            "min_height": null,
            "min_width": null,
            "object_fit": null,
            "object_position": null,
            "order": null,
            "overflow": null,
            "overflow_x": null,
            "overflow_y": null,
            "padding": null,
            "right": null,
            "top": null,
            "visibility": null,
            "width": null
          }
        },
        "3b11834af5584dfe9af22319cea790cb": {
          "model_module": "@jupyter-widgets/controls",
          "model_name": "DescriptionStyleModel",
          "model_module_version": "1.5.0",
          "state": {
            "_model_module": "@jupyter-widgets/controls",
            "_model_module_version": "1.5.0",
            "_model_name": "DescriptionStyleModel",
            "_view_count": null,
            "_view_module": "@jupyter-widgets/base",
            "_view_module_version": "1.2.0",
            "_view_name": "StyleView",
            "description_width": ""
          }
        },
        "df393b6c5eb144499d08bd98bb82536f": {
          "model_module": "@jupyter-widgets/base",
          "model_name": "LayoutModel",
          "model_module_version": "1.2.0",
          "state": {
            "_model_module": "@jupyter-widgets/base",
            "_model_module_version": "1.2.0",
            "_model_name": "LayoutModel",
            "_view_count": null,
            "_view_module": "@jupyter-widgets/base",
            "_view_module_version": "1.2.0",
            "_view_name": "LayoutView",
            "align_content": null,
            "align_items": null,
            "align_self": null,
            "border": null,
            "bottom": null,
            "display": null,
            "flex": null,
            "flex_flow": null,
            "grid_area": null,
            "grid_auto_columns": null,
            "grid_auto_flow": null,
            "grid_auto_rows": null,
            "grid_column": null,
            "grid_gap": null,
            "grid_row": null,
            "grid_template_areas": null,
            "grid_template_columns": null,
            "grid_template_rows": null,
            "height": null,
            "justify_content": null,
            "justify_items": null,
            "left": null,
            "margin": null,
            "max_height": null,
            "max_width": null,
            "min_height": null,
            "min_width": null,
            "object_fit": null,
            "object_position": null,
            "order": null,
            "overflow": null,
            "overflow_x": null,
            "overflow_y": null,
            "padding": null,
            "right": null,
            "top": null,
            "visibility": null,
            "width": null
          }
        },
        "ffbbf2d969e549a0881de905ff3d59ac": {
          "model_module": "@jupyter-widgets/controls",
          "model_name": "ProgressStyleModel",
          "model_module_version": "1.5.0",
          "state": {
            "_model_module": "@jupyter-widgets/controls",
            "_model_module_version": "1.5.0",
            "_model_name": "ProgressStyleModel",
            "_view_count": null,
            "_view_module": "@jupyter-widgets/base",
            "_view_module_version": "1.2.0",
            "_view_name": "StyleView",
            "bar_color": null,
            "description_width": ""
          }
        },
        "f32971f28f064f05b2beb9c93582b89d": {
          "model_module": "@jupyter-widgets/base",
          "model_name": "LayoutModel",
          "model_module_version": "1.2.0",
          "state": {
            "_model_module": "@jupyter-widgets/base",
            "_model_module_version": "1.2.0",
            "_model_name": "LayoutModel",
            "_view_count": null,
            "_view_module": "@jupyter-widgets/base",
            "_view_module_version": "1.2.0",
            "_view_name": "LayoutView",
            "align_content": null,
            "align_items": null,
            "align_self": null,
            "border": null,
            "bottom": null,
            "display": null,
            "flex": null,
            "flex_flow": null,
            "grid_area": null,
            "grid_auto_columns": null,
            "grid_auto_flow": null,
            "grid_auto_rows": null,
            "grid_column": null,
            "grid_gap": null,
            "grid_row": null,
            "grid_template_areas": null,
            "grid_template_columns": null,
            "grid_template_rows": null,
            "height": null,
            "justify_content": null,
            "justify_items": null,
            "left": null,
            "margin": null,
            "max_height": null,
            "max_width": null,
            "min_height": null,
            "min_width": null,
            "object_fit": null,
            "object_position": null,
            "order": null,
            "overflow": null,
            "overflow_x": null,
            "overflow_y": null,
            "padding": null,
            "right": null,
            "top": null,
            "visibility": null,
            "width": null
          }
        },
        "f9c37b4b9c0f4afcbb8d992dbf1be11e": {
          "model_module": "@jupyter-widgets/controls",
          "model_name": "DescriptionStyleModel",
          "model_module_version": "1.5.0",
          "state": {
            "_model_module": "@jupyter-widgets/controls",
            "_model_module_version": "1.5.0",
            "_model_name": "DescriptionStyleModel",
            "_view_count": null,
            "_view_module": "@jupyter-widgets/base",
            "_view_module_version": "1.2.0",
            "_view_name": "StyleView",
            "description_width": ""
          }
        },
        "5d3a03d01fed4c6c838c3c1332694102": {
          "model_module": "@jupyter-widgets/controls",
          "model_name": "HBoxModel",
          "model_module_version": "1.5.0",
          "state": {
            "_dom_classes": [],
            "_model_module": "@jupyter-widgets/controls",
            "_model_module_version": "1.5.0",
            "_model_name": "HBoxModel",
            "_view_count": null,
            "_view_module": "@jupyter-widgets/controls",
            "_view_module_version": "1.5.0",
            "_view_name": "HBoxView",
            "box_style": "",
            "children": [
              "IPY_MODEL_e7761ec313154dcfb284192f59a364e6",
              "IPY_MODEL_82e6c7162a974f7199fb486d00cde54c",
              "IPY_MODEL_93bf33fbdffe4395a512b9d25dbf2c4e"
            ],
            "layout": "IPY_MODEL_45ab68258df546e9979cda98c21d9fa5"
          }
        },
        "e7761ec313154dcfb284192f59a364e6": {
          "model_module": "@jupyter-widgets/controls",
          "model_name": "HTMLModel",
          "model_module_version": "1.5.0",
          "state": {
            "_dom_classes": [],
            "_model_module": "@jupyter-widgets/controls",
            "_model_module_version": "1.5.0",
            "_model_name": "HTMLModel",
            "_view_count": null,
            "_view_module": "@jupyter-widgets/controls",
            "_view_module_version": "1.5.0",
            "_view_name": "HTMLView",
            "description": "",
            "description_tooltip": null,
            "layout": "IPY_MODEL_5f37f85380c745b4925b76e824d6b462",
            "placeholder": "​",
            "style": "IPY_MODEL_e790b2ac353e4c4f9559109c2f4766e3",
            "value": "model.safetensors: 100%"
          }
        },
        "82e6c7162a974f7199fb486d00cde54c": {
          "model_module": "@jupyter-widgets/controls",
          "model_name": "FloatProgressModel",
          "model_module_version": "1.5.0",
          "state": {
            "_dom_classes": [],
            "_model_module": "@jupyter-widgets/controls",
            "_model_module_version": "1.5.0",
            "_model_name": "FloatProgressModel",
            "_view_count": null,
            "_view_module": "@jupyter-widgets/controls",
            "_view_module_version": "1.5.0",
            "_view_name": "ProgressView",
            "bar_style": "success",
            "description": "",
            "description_tooltip": null,
            "layout": "IPY_MODEL_cba1512744f44e12a37f19657ce14c92",
            "max": 737726552,
            "min": 0,
            "orientation": "horizontal",
            "style": "IPY_MODEL_4509a2e87c0f48469be5ca10bf82d64a",
            "value": 737726552
          }
        },
        "93bf33fbdffe4395a512b9d25dbf2c4e": {
          "model_module": "@jupyter-widgets/controls",
          "model_name": "HTMLModel",
          "model_module_version": "1.5.0",
          "state": {
            "_dom_classes": [],
            "_model_module": "@jupyter-widgets/controls",
            "_model_module_version": "1.5.0",
            "_model_name": "HTMLModel",
            "_view_count": null,
            "_view_module": "@jupyter-widgets/controls",
            "_view_module_version": "1.5.0",
            "_view_name": "HTMLView",
            "description": "",
            "description_tooltip": null,
            "layout": "IPY_MODEL_6a8cb4d4cf8247b4b52f2a36f84f832e",
            "placeholder": "​",
            "style": "IPY_MODEL_d0b26461dd4d4e5d902189ebf59f0d2e",
            "value": " 738M/738M [00:10&lt;00:00, 65.5MB/s]"
          }
        },
        "45ab68258df546e9979cda98c21d9fa5": {
          "model_module": "@jupyter-widgets/base",
          "model_name": "LayoutModel",
          "model_module_version": "1.2.0",
          "state": {
            "_model_module": "@jupyter-widgets/base",
            "_model_module_version": "1.2.0",
            "_model_name": "LayoutModel",
            "_view_count": null,
            "_view_module": "@jupyter-widgets/base",
            "_view_module_version": "1.2.0",
            "_view_name": "LayoutView",
            "align_content": null,
            "align_items": null,
            "align_self": null,
            "border": null,
            "bottom": null,
            "display": null,
            "flex": null,
            "flex_flow": null,
            "grid_area": null,
            "grid_auto_columns": null,
            "grid_auto_flow": null,
            "grid_auto_rows": null,
            "grid_column": null,
            "grid_gap": null,
            "grid_row": null,
            "grid_template_areas": null,
            "grid_template_columns": null,
            "grid_template_rows": null,
            "height": null,
            "justify_content": null,
            "justify_items": null,
            "left": null,
            "margin": null,
            "max_height": null,
            "max_width": null,
            "min_height": null,
            "min_width": null,
            "object_fit": null,
            "object_position": null,
            "order": null,
            "overflow": null,
            "overflow_x": null,
            "overflow_y": null,
            "padding": null,
            "right": null,
            "top": null,
            "visibility": null,
            "width": null
          }
        },
        "5f37f85380c745b4925b76e824d6b462": {
          "model_module": "@jupyter-widgets/base",
          "model_name": "LayoutModel",
          "model_module_version": "1.2.0",
          "state": {
            "_model_module": "@jupyter-widgets/base",
            "_model_module_version": "1.2.0",
            "_model_name": "LayoutModel",
            "_view_count": null,
            "_view_module": "@jupyter-widgets/base",
            "_view_module_version": "1.2.0",
            "_view_name": "LayoutView",
            "align_content": null,
            "align_items": null,
            "align_self": null,
            "border": null,
            "bottom": null,
            "display": null,
            "flex": null,
            "flex_flow": null,
            "grid_area": null,
            "grid_auto_columns": null,
            "grid_auto_flow": null,
            "grid_auto_rows": null,
            "grid_column": null,
            "grid_gap": null,
            "grid_row": null,
            "grid_template_areas": null,
            "grid_template_columns": null,
            "grid_template_rows": null,
            "height": null,
            "justify_content": null,
            "justify_items": null,
            "left": null,
            "margin": null,
            "max_height": null,
            "max_width": null,
            "min_height": null,
            "min_width": null,
            "object_fit": null,
            "object_position": null,
            "order": null,
            "overflow": null,
            "overflow_x": null,
            "overflow_y": null,
            "padding": null,
            "right": null,
            "top": null,
            "visibility": null,
            "width": null
          }
        },
        "e790b2ac353e4c4f9559109c2f4766e3": {
          "model_module": "@jupyter-widgets/controls",
          "model_name": "DescriptionStyleModel",
          "model_module_version": "1.5.0",
          "state": {
            "_model_module": "@jupyter-widgets/controls",
            "_model_module_version": "1.5.0",
            "_model_name": "DescriptionStyleModel",
            "_view_count": null,
            "_view_module": "@jupyter-widgets/base",
            "_view_module_version": "1.2.0",
            "_view_name": "StyleView",
            "description_width": ""
          }
        },
        "cba1512744f44e12a37f19657ce14c92": {
          "model_module": "@jupyter-widgets/base",
          "model_name": "LayoutModel",
          "model_module_version": "1.2.0",
          "state": {
            "_model_module": "@jupyter-widgets/base",
            "_model_module_version": "1.2.0",
            "_model_name": "LayoutModel",
            "_view_count": null,
            "_view_module": "@jupyter-widgets/base",
            "_view_module_version": "1.2.0",
            "_view_name": "LayoutView",
            "align_content": null,
            "align_items": null,
            "align_self": null,
            "border": null,
            "bottom": null,
            "display": null,
            "flex": null,
            "flex_flow": null,
            "grid_area": null,
            "grid_auto_columns": null,
            "grid_auto_flow": null,
            "grid_auto_rows": null,
            "grid_column": null,
            "grid_gap": null,
            "grid_row": null,
            "grid_template_areas": null,
            "grid_template_columns": null,
            "grid_template_rows": null,
            "height": null,
            "justify_content": null,
            "justify_items": null,
            "left": null,
            "margin": null,
            "max_height": null,
            "max_width": null,
            "min_height": null,
            "min_width": null,
            "object_fit": null,
            "object_position": null,
            "order": null,
            "overflow": null,
            "overflow_x": null,
            "overflow_y": null,
            "padding": null,
            "right": null,
            "top": null,
            "visibility": null,
            "width": null
          }
        },
        "4509a2e87c0f48469be5ca10bf82d64a": {
          "model_module": "@jupyter-widgets/controls",
          "model_name": "ProgressStyleModel",
          "model_module_version": "1.5.0",
          "state": {
            "_model_module": "@jupyter-widgets/controls",
            "_model_module_version": "1.5.0",
            "_model_name": "ProgressStyleModel",
            "_view_count": null,
            "_view_module": "@jupyter-widgets/base",
            "_view_module_version": "1.2.0",
            "_view_name": "StyleView",
            "bar_color": null,
            "description_width": ""
          }
        },
        "6a8cb4d4cf8247b4b52f2a36f84f832e": {
          "model_module": "@jupyter-widgets/base",
          "model_name": "LayoutModel",
          "model_module_version": "1.2.0",
          "state": {
            "_model_module": "@jupyter-widgets/base",
            "_model_module_version": "1.2.0",
            "_model_name": "LayoutModel",
            "_view_count": null,
            "_view_module": "@jupyter-widgets/base",
            "_view_module_version": "1.2.0",
            "_view_name": "LayoutView",
            "align_content": null,
            "align_items": null,
            "align_self": null,
            "border": null,
            "bottom": null,
            "display": null,
            "flex": null,
            "flex_flow": null,
            "grid_area": null,
            "grid_auto_columns": null,
            "grid_auto_flow": null,
            "grid_auto_rows": null,
            "grid_column": null,
            "grid_gap": null,
            "grid_row": null,
            "grid_template_areas": null,
            "grid_template_columns": null,
            "grid_template_rows": null,
            "height": null,
            "justify_content": null,
            "justify_items": null,
            "left": null,
            "margin": null,
            "max_height": null,
            "max_width": null,
            "min_height": null,
            "min_width": null,
            "object_fit": null,
            "object_position": null,
            "order": null,
            "overflow": null,
            "overflow_x": null,
            "overflow_y": null,
            "padding": null,
            "right": null,
            "top": null,
            "visibility": null,
            "width": null
          }
        },
        "d0b26461dd4d4e5d902189ebf59f0d2e": {
          "model_module": "@jupyter-widgets/controls",
          "model_name": "DescriptionStyleModel",
          "model_module_version": "1.5.0",
          "state": {
            "_model_module": "@jupyter-widgets/controls",
            "_model_module_version": "1.5.0",
            "_model_name": "DescriptionStyleModel",
            "_view_count": null,
            "_view_module": "@jupyter-widgets/base",
            "_view_module_version": "1.2.0",
            "_view_name": "StyleView",
            "description_width": ""
          }
        }
      }
    }
  },
  "nbformat": 4,
  "nbformat_minor": 5
}